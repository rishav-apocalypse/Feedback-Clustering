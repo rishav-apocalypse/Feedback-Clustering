{
 "cells": [
  {
   "cell_type": "code",
   "execution_count": 28,
   "id": "a355632c",
   "metadata": {},
   "outputs": [
    {
     "name": "stderr",
     "output_type": "stream",
     "text": [
      "/Library/Frameworks/Python.framework/Versions/3.12/lib/python3.12/site-packages/lancedb/__init__.py:220: UserWarning: lance is not fork-safe. If you are using multiprocessing, use spawn instead.\n",
      "  warnings.warn(\n",
      "huggingface/tokenizers: The current process just got forked, after parallelism has already been used. Disabling parallelism to avoid deadlocks...\n",
      "To disable this warning, you can either:\n",
      "\t- Avoid using `tokenizers` before the fork if possible\n",
      "\t- Explicitly set the environment variable TOKENIZERS_PARALLELISM=(true | false)\n"
     ]
    },
    {
     "name": "stdout",
     "output_type": "stream",
     "text": [
      "Requirement already satisfied: langchain in /Library/Frameworks/Python.framework/Versions/3.12/lib/python3.12/site-packages (0.3.24)\n",
      "Requirement already satisfied: lancedb in /Library/Frameworks/Python.framework/Versions/3.12/lib/python3.12/site-packages (0.22.0)\n",
      "Requirement already satisfied: langchain_community in /Library/Frameworks/Python.framework/Versions/3.12/lib/python3.12/site-packages (0.3.23)\n",
      "Requirement already satisfied: requests in /Library/Frameworks/Python.framework/Versions/3.12/lib/python3.12/site-packages (2.32.3)\n",
      "Requirement already satisfied: langchainhub in /Library/Frameworks/Python.framework/Versions/3.12/lib/python3.12/site-packages (0.1.21)\n",
      "Requirement already satisfied: langchain-core<1.0.0,>=0.3.55 in /Library/Frameworks/Python.framework/Versions/3.12/lib/python3.12/site-packages (from langchain) (0.3.56)\n",
      "Requirement already satisfied: langchain-text-splitters<1.0.0,>=0.3.8 in /Library/Frameworks/Python.framework/Versions/3.12/lib/python3.12/site-packages (from langchain) (0.3.8)\n",
      "Requirement already satisfied: langsmith<0.4,>=0.1.17 in /Library/Frameworks/Python.framework/Versions/3.12/lib/python3.12/site-packages (from langchain) (0.3.39)\n",
      "Requirement already satisfied: pydantic<3.0.0,>=2.7.4 in /Library/Frameworks/Python.framework/Versions/3.12/lib/python3.12/site-packages (from langchain) (2.11.4)\n",
      "Requirement already satisfied: SQLAlchemy<3,>=1.4 in /Library/Frameworks/Python.framework/Versions/3.12/lib/python3.12/site-packages (from langchain) (2.0.40)\n",
      "Requirement already satisfied: PyYAML>=5.3 in /Library/Frameworks/Python.framework/Versions/3.12/lib/python3.12/site-packages (from langchain) (6.0.2)\n",
      "Requirement already satisfied: charset-normalizer<4,>=2 in /Library/Frameworks/Python.framework/Versions/3.12/lib/python3.12/site-packages (from requests) (3.4.0)\n",
      "Requirement already satisfied: idna<4,>=2.5 in /Library/Frameworks/Python.framework/Versions/3.12/lib/python3.12/site-packages (from requests) (3.10)\n",
      "Requirement already satisfied: urllib3<3,>=1.21.1 in /Library/Frameworks/Python.framework/Versions/3.12/lib/python3.12/site-packages (from requests) (2.2.3)\n",
      "Requirement already satisfied: certifi>=2017.4.17 in /Library/Frameworks/Python.framework/Versions/3.12/lib/python3.12/site-packages (from requests) (2025.4.26)\n",
      "Requirement already satisfied: tenacity!=8.4.0,<10.0.0,>=8.1.0 in /Library/Frameworks/Python.framework/Versions/3.12/lib/python3.12/site-packages (from langchain-core<1.0.0,>=0.3.55->langchain) (9.1.2)\n",
      "Requirement already satisfied: jsonpatch<2.0,>=1.33 in /Library/Frameworks/Python.framework/Versions/3.12/lib/python3.12/site-packages (from langchain-core<1.0.0,>=0.3.55->langchain) (1.33)\n",
      "Requirement already satisfied: packaging<25,>=23.2 in /Library/Frameworks/Python.framework/Versions/3.12/lib/python3.12/site-packages (from langchain-core<1.0.0,>=0.3.55->langchain) (24.1)\n",
      "Requirement already satisfied: typing-extensions>=4.7 in /Library/Frameworks/Python.framework/Versions/3.12/lib/python3.12/site-packages (from langchain-core<1.0.0,>=0.3.55->langchain) (4.13.2)\n",
      "Requirement already satisfied: jsonpointer>=1.9 in /Library/Frameworks/Python.framework/Versions/3.12/lib/python3.12/site-packages (from jsonpatch<2.0,>=1.33->langchain-core<1.0.0,>=0.3.55->langchain) (3.0.0)\n",
      "Requirement already satisfied: httpx<1,>=0.23.0 in /Library/Frameworks/Python.framework/Versions/3.12/lib/python3.12/site-packages (from langsmith<0.4,>=0.1.17->langchain) (0.28.1)\n",
      "Requirement already satisfied: orjson<4.0.0,>=3.9.14 in /Library/Frameworks/Python.framework/Versions/3.12/lib/python3.12/site-packages (from langsmith<0.4,>=0.1.17->langchain) (3.10.18)\n",
      "Requirement already satisfied: requests-toolbelt<2.0.0,>=1.0.0 in /Library/Frameworks/Python.framework/Versions/3.12/lib/python3.12/site-packages (from langsmith<0.4,>=0.1.17->langchain) (1.0.0)\n",
      "Requirement already satisfied: zstandard<0.24.0,>=0.23.0 in /Library/Frameworks/Python.framework/Versions/3.12/lib/python3.12/site-packages (from langsmith<0.4,>=0.1.17->langchain) (0.23.0)\n",
      "Requirement already satisfied: anyio in /Library/Frameworks/Python.framework/Versions/3.12/lib/python3.12/site-packages (from httpx<1,>=0.23.0->langsmith<0.4,>=0.1.17->langchain) (4.9.0)\n",
      "Requirement already satisfied: httpcore==1.* in /Library/Frameworks/Python.framework/Versions/3.12/lib/python3.12/site-packages (from httpx<1,>=0.23.0->langsmith<0.4,>=0.1.17->langchain) (1.0.7)\n",
      "Requirement already satisfied: h11<0.15,>=0.13 in /Library/Frameworks/Python.framework/Versions/3.12/lib/python3.12/site-packages (from httpcore==1.*->httpx<1,>=0.23.0->langsmith<0.4,>=0.1.17->langchain) (0.14.0)\n",
      "Requirement already satisfied: annotated-types>=0.6.0 in /Library/Frameworks/Python.framework/Versions/3.12/lib/python3.12/site-packages (from pydantic<3.0.0,>=2.7.4->langchain) (0.7.0)\n",
      "Requirement already satisfied: pydantic-core==2.33.2 in /Library/Frameworks/Python.framework/Versions/3.12/lib/python3.12/site-packages (from pydantic<3.0.0,>=2.7.4->langchain) (2.33.2)\n",
      "Requirement already satisfied: typing-inspection>=0.4.0 in /Library/Frameworks/Python.framework/Versions/3.12/lib/python3.12/site-packages (from pydantic<3.0.0,>=2.7.4->langchain) (0.4.0)\n",
      "Requirement already satisfied: deprecation in /Library/Frameworks/Python.framework/Versions/3.12/lib/python3.12/site-packages (from lancedb) (2.1.0)\n",
      "Requirement already satisfied: numpy in /Library/Frameworks/Python.framework/Versions/3.12/lib/python3.12/site-packages (from lancedb) (2.1.0)\n",
      "Requirement already satisfied: overrides>=0.7 in /Library/Frameworks/Python.framework/Versions/3.12/lib/python3.12/site-packages (from lancedb) (7.7.0)\n",
      "Requirement already satisfied: pyarrow>=14 in /Library/Frameworks/Python.framework/Versions/3.12/lib/python3.12/site-packages (from lancedb) (20.0.0)\n",
      "Requirement already satisfied: tqdm>=4.27.0 in /Library/Frameworks/Python.framework/Versions/3.12/lib/python3.12/site-packages (from lancedb) (4.67.1)\n",
      "Requirement already satisfied: aiohttp<4.0.0,>=3.8.3 in /Library/Frameworks/Python.framework/Versions/3.12/lib/python3.12/site-packages (from langchain_community) (3.11.18)\n",
      "Requirement already satisfied: dataclasses-json<0.7,>=0.5.7 in /Library/Frameworks/Python.framework/Versions/3.12/lib/python3.12/site-packages (from langchain_community) (0.6.7)\n",
      "Requirement already satisfied: pydantic-settings<3.0.0,>=2.4.0 in /Library/Frameworks/Python.framework/Versions/3.12/lib/python3.12/site-packages (from langchain_community) (2.9.1)\n",
      "Requirement already satisfied: httpx-sse<1.0.0,>=0.4.0 in /Library/Frameworks/Python.framework/Versions/3.12/lib/python3.12/site-packages (from langchain_community) (0.4.0)\n",
      "Requirement already satisfied: aiohappyeyeballs>=2.3.0 in /Library/Frameworks/Python.framework/Versions/3.12/lib/python3.12/site-packages (from aiohttp<4.0.0,>=3.8.3->langchain_community) (2.6.1)\n",
      "Requirement already satisfied: aiosignal>=1.1.2 in /Library/Frameworks/Python.framework/Versions/3.12/lib/python3.12/site-packages (from aiohttp<4.0.0,>=3.8.3->langchain_community) (1.3.2)\n",
      "Requirement already satisfied: attrs>=17.3.0 in /Library/Frameworks/Python.framework/Versions/3.12/lib/python3.12/site-packages (from aiohttp<4.0.0,>=3.8.3->langchain_community) (24.2.0)\n",
      "Requirement already satisfied: frozenlist>=1.1.1 in /Library/Frameworks/Python.framework/Versions/3.12/lib/python3.12/site-packages (from aiohttp<4.0.0,>=3.8.3->langchain_community) (1.6.0)\n",
      "Requirement already satisfied: multidict<7.0,>=4.5 in /Library/Frameworks/Python.framework/Versions/3.12/lib/python3.12/site-packages (from aiohttp<4.0.0,>=3.8.3->langchain_community) (6.4.3)\n",
      "Requirement already satisfied: propcache>=0.2.0 in /Library/Frameworks/Python.framework/Versions/3.12/lib/python3.12/site-packages (from aiohttp<4.0.0,>=3.8.3->langchain_community) (0.3.1)\n",
      "Requirement already satisfied: yarl<2.0,>=1.17.0 in /Library/Frameworks/Python.framework/Versions/3.12/lib/python3.12/site-packages (from aiohttp<4.0.0,>=3.8.3->langchain_community) (1.20.0)\n",
      "Requirement already satisfied: marshmallow<4.0.0,>=3.18.0 in /Library/Frameworks/Python.framework/Versions/3.12/lib/python3.12/site-packages (from dataclasses-json<0.7,>=0.5.7->langchain_community) (3.26.1)\n",
      "Requirement already satisfied: typing-inspect<1,>=0.4.0 in /Library/Frameworks/Python.framework/Versions/3.12/lib/python3.12/site-packages (from dataclasses-json<0.7,>=0.5.7->langchain_community) (0.9.0)\n",
      "Requirement already satisfied: python-dotenv>=0.21.0 in /Library/Frameworks/Python.framework/Versions/3.12/lib/python3.12/site-packages (from pydantic-settings<3.0.0,>=2.4.0->langchain_community) (1.1.0)\n",
      "Requirement already satisfied: mypy-extensions>=0.3.0 in /Library/Frameworks/Python.framework/Versions/3.12/lib/python3.12/site-packages (from typing-inspect<1,>=0.4.0->dataclasses-json<0.7,>=0.5.7->langchain_community) (1.1.0)\n",
      "Requirement already satisfied: types-requests<3.0.0.0,>=2.31.0.2 in /Library/Frameworks/Python.framework/Versions/3.12/lib/python3.12/site-packages (from langchainhub) (2.32.0.20250328)\n",
      "Requirement already satisfied: sniffio>=1.1 in /Library/Frameworks/Python.framework/Versions/3.12/lib/python3.12/site-packages (from anyio->httpx<1,>=0.23.0->langsmith<0.4,>=0.1.17->langchain) (1.3.1)\n",
      "Note: you may need to restart the kernel to use updated packages.\n"
     ]
    },
    {
     "name": "stderr",
     "output_type": "stream",
     "text": [
      "huggingface/tokenizers: The current process just got forked, after parallelism has already been used. Disabling parallelism to avoid deadlocks...\n",
      "To disable this warning, you can either:\n",
      "\t- Avoid using `tokenizers` before the fork if possible\n",
      "\t- Explicitly set the environment variable TOKENIZERS_PARALLELISM=(true | false)\n"
     ]
    },
    {
     "name": "stdout",
     "output_type": "stream",
     "text": [
      "Requirement already satisfied: langchain in /Library/Frameworks/Python.framework/Versions/3.12/lib/python3.12/site-packages (0.3.24)\n",
      "Requirement already satisfied: google-generativeai in /Library/Frameworks/Python.framework/Versions/3.12/lib/python3.12/site-packages (0.8.5)\n",
      "Requirement already satisfied: langchain-core<1.0.0,>=0.3.55 in /Library/Frameworks/Python.framework/Versions/3.12/lib/python3.12/site-packages (from langchain) (0.3.56)\n",
      "Requirement already satisfied: langchain-text-splitters<1.0.0,>=0.3.8 in /Library/Frameworks/Python.framework/Versions/3.12/lib/python3.12/site-packages (from langchain) (0.3.8)\n",
      "Requirement already satisfied: langsmith<0.4,>=0.1.17 in /Library/Frameworks/Python.framework/Versions/3.12/lib/python3.12/site-packages (from langchain) (0.3.39)\n",
      "Requirement already satisfied: pydantic<3.0.0,>=2.7.4 in /Library/Frameworks/Python.framework/Versions/3.12/lib/python3.12/site-packages (from langchain) (2.11.4)\n",
      "Requirement already satisfied: SQLAlchemy<3,>=1.4 in /Library/Frameworks/Python.framework/Versions/3.12/lib/python3.12/site-packages (from langchain) (2.0.40)\n",
      "Requirement already satisfied: requests<3,>=2 in /Library/Frameworks/Python.framework/Versions/3.12/lib/python3.12/site-packages (from langchain) (2.32.3)\n",
      "Requirement already satisfied: PyYAML>=5.3 in /Library/Frameworks/Python.framework/Versions/3.12/lib/python3.12/site-packages (from langchain) (6.0.2)\n",
      "Requirement already satisfied: tenacity!=8.4.0,<10.0.0,>=8.1.0 in /Library/Frameworks/Python.framework/Versions/3.12/lib/python3.12/site-packages (from langchain-core<1.0.0,>=0.3.55->langchain) (9.1.2)\n",
      "Requirement already satisfied: jsonpatch<2.0,>=1.33 in /Library/Frameworks/Python.framework/Versions/3.12/lib/python3.12/site-packages (from langchain-core<1.0.0,>=0.3.55->langchain) (1.33)\n",
      "Requirement already satisfied: packaging<25,>=23.2 in /Library/Frameworks/Python.framework/Versions/3.12/lib/python3.12/site-packages (from langchain-core<1.0.0,>=0.3.55->langchain) (24.1)\n",
      "Requirement already satisfied: typing-extensions>=4.7 in /Library/Frameworks/Python.framework/Versions/3.12/lib/python3.12/site-packages (from langchain-core<1.0.0,>=0.3.55->langchain) (4.13.2)\n",
      "Requirement already satisfied: jsonpointer>=1.9 in /Library/Frameworks/Python.framework/Versions/3.12/lib/python3.12/site-packages (from jsonpatch<2.0,>=1.33->langchain-core<1.0.0,>=0.3.55->langchain) (3.0.0)\n",
      "Requirement already satisfied: httpx<1,>=0.23.0 in /Library/Frameworks/Python.framework/Versions/3.12/lib/python3.12/site-packages (from langsmith<0.4,>=0.1.17->langchain) (0.28.1)\n",
      "Requirement already satisfied: orjson<4.0.0,>=3.9.14 in /Library/Frameworks/Python.framework/Versions/3.12/lib/python3.12/site-packages (from langsmith<0.4,>=0.1.17->langchain) (3.10.18)\n",
      "Requirement already satisfied: requests-toolbelt<2.0.0,>=1.0.0 in /Library/Frameworks/Python.framework/Versions/3.12/lib/python3.12/site-packages (from langsmith<0.4,>=0.1.17->langchain) (1.0.0)\n",
      "Requirement already satisfied: zstandard<0.24.0,>=0.23.0 in /Library/Frameworks/Python.framework/Versions/3.12/lib/python3.12/site-packages (from langsmith<0.4,>=0.1.17->langchain) (0.23.0)\n",
      "Requirement already satisfied: anyio in /Library/Frameworks/Python.framework/Versions/3.12/lib/python3.12/site-packages (from httpx<1,>=0.23.0->langsmith<0.4,>=0.1.17->langchain) (4.9.0)\n",
      "Requirement already satisfied: certifi in /Library/Frameworks/Python.framework/Versions/3.12/lib/python3.12/site-packages (from httpx<1,>=0.23.0->langsmith<0.4,>=0.1.17->langchain) (2025.4.26)\n",
      "Requirement already satisfied: httpcore==1.* in /Library/Frameworks/Python.framework/Versions/3.12/lib/python3.12/site-packages (from httpx<1,>=0.23.0->langsmith<0.4,>=0.1.17->langchain) (1.0.7)\n",
      "Requirement already satisfied: idna in /Library/Frameworks/Python.framework/Versions/3.12/lib/python3.12/site-packages (from httpx<1,>=0.23.0->langsmith<0.4,>=0.1.17->langchain) (3.10)\n",
      "Requirement already satisfied: h11<0.15,>=0.13 in /Library/Frameworks/Python.framework/Versions/3.12/lib/python3.12/site-packages (from httpcore==1.*->httpx<1,>=0.23.0->langsmith<0.4,>=0.1.17->langchain) (0.14.0)\n",
      "Requirement already satisfied: annotated-types>=0.6.0 in /Library/Frameworks/Python.framework/Versions/3.12/lib/python3.12/site-packages (from pydantic<3.0.0,>=2.7.4->langchain) (0.7.0)\n",
      "Requirement already satisfied: pydantic-core==2.33.2 in /Library/Frameworks/Python.framework/Versions/3.12/lib/python3.12/site-packages (from pydantic<3.0.0,>=2.7.4->langchain) (2.33.2)\n",
      "Requirement already satisfied: typing-inspection>=0.4.0 in /Library/Frameworks/Python.framework/Versions/3.12/lib/python3.12/site-packages (from pydantic<3.0.0,>=2.7.4->langchain) (0.4.0)\n",
      "Requirement already satisfied: charset-normalizer<4,>=2 in /Library/Frameworks/Python.framework/Versions/3.12/lib/python3.12/site-packages (from requests<3,>=2->langchain) (3.4.0)\n",
      "Requirement already satisfied: urllib3<3,>=1.21.1 in /Library/Frameworks/Python.framework/Versions/3.12/lib/python3.12/site-packages (from requests<3,>=2->langchain) (2.2.3)\n",
      "Requirement already satisfied: google-ai-generativelanguage==0.6.15 in /Library/Frameworks/Python.framework/Versions/3.12/lib/python3.12/site-packages (from google-generativeai) (0.6.15)\n",
      "Requirement already satisfied: google-api-core in /Library/Frameworks/Python.framework/Versions/3.12/lib/python3.12/site-packages (from google-generativeai) (2.25.0rc0)\n",
      "Requirement already satisfied: google-api-python-client in /Library/Frameworks/Python.framework/Versions/3.12/lib/python3.12/site-packages (from google-generativeai) (2.169.0)\n",
      "Requirement already satisfied: google-auth>=2.15.0 in /Library/Frameworks/Python.framework/Versions/3.12/lib/python3.12/site-packages (from google-generativeai) (2.39.0)\n",
      "Requirement already satisfied: protobuf in /Library/Frameworks/Python.framework/Versions/3.12/lib/python3.12/site-packages (from google-generativeai) (5.29.4)\n",
      "Requirement already satisfied: tqdm in /Library/Frameworks/Python.framework/Versions/3.12/lib/python3.12/site-packages (from google-generativeai) (4.67.1)\n",
      "Requirement already satisfied: proto-plus<2.0.0dev,>=1.22.3 in /Library/Frameworks/Python.framework/Versions/3.12/lib/python3.12/site-packages (from google-ai-generativelanguage==0.6.15->google-generativeai) (1.26.1)\n",
      "Requirement already satisfied: googleapis-common-protos<2.0.0,>=1.56.2 in /Library/Frameworks/Python.framework/Versions/3.12/lib/python3.12/site-packages (from google-api-core->google-generativeai) (1.70.0)\n",
      "Requirement already satisfied: grpcio<2.0.0,>=1.33.2 in /Library/Frameworks/Python.framework/Versions/3.12/lib/python3.12/site-packages (from google-api-core[grpc]!=2.0.*,!=2.1.*,!=2.10.*,!=2.2.*,!=2.3.*,!=2.4.*,!=2.5.*,!=2.6.*,!=2.7.*,!=2.8.*,!=2.9.*,<3.0.0dev,>=1.34.1->google-ai-generativelanguage==0.6.15->google-generativeai) (1.71.0)\n",
      "Requirement already satisfied: grpcio-status<2.0.0,>=1.33.2 in /Library/Frameworks/Python.framework/Versions/3.12/lib/python3.12/site-packages (from google-api-core[grpc]!=2.0.*,!=2.1.*,!=2.10.*,!=2.2.*,!=2.3.*,!=2.4.*,!=2.5.*,!=2.6.*,!=2.7.*,!=2.8.*,!=2.9.*,<3.0.0dev,>=1.34.1->google-ai-generativelanguage==0.6.15->google-generativeai) (1.71.0)\n",
      "Requirement already satisfied: cachetools<6.0,>=2.0.0 in /Library/Frameworks/Python.framework/Versions/3.12/lib/python3.12/site-packages (from google-auth>=2.15.0->google-generativeai) (5.5.2)\n",
      "Requirement already satisfied: pyasn1-modules>=0.2.1 in /Library/Frameworks/Python.framework/Versions/3.12/lib/python3.12/site-packages (from google-auth>=2.15.0->google-generativeai) (0.4.2)\n",
      "Requirement already satisfied: rsa<5,>=3.1.4 in /Library/Frameworks/Python.framework/Versions/3.12/lib/python3.12/site-packages (from google-auth>=2.15.0->google-generativeai) (4.9.1)\n",
      "Requirement already satisfied: pyasn1>=0.1.3 in /Library/Frameworks/Python.framework/Versions/3.12/lib/python3.12/site-packages (from rsa<5,>=3.1.4->google-auth>=2.15.0->google-generativeai) (0.6.1)\n",
      "Requirement already satisfied: sniffio>=1.1 in /Library/Frameworks/Python.framework/Versions/3.12/lib/python3.12/site-packages (from anyio->httpx<1,>=0.23.0->langsmith<0.4,>=0.1.17->langchain) (1.3.1)\n",
      "Requirement already satisfied: httplib2<1.0.0,>=0.19.0 in /Library/Frameworks/Python.framework/Versions/3.12/lib/python3.12/site-packages (from google-api-python-client->google-generativeai) (0.22.0)\n",
      "Requirement already satisfied: google-auth-httplib2<1.0.0,>=0.2.0 in /Library/Frameworks/Python.framework/Versions/3.12/lib/python3.12/site-packages (from google-api-python-client->google-generativeai) (0.2.0)\n",
      "Requirement already satisfied: uritemplate<5,>=3.0.1 in /Library/Frameworks/Python.framework/Versions/3.12/lib/python3.12/site-packages (from google-api-python-client->google-generativeai) (4.1.1)\n",
      "Requirement already satisfied: pyparsing!=3.0.0,!=3.0.1,!=3.0.2,!=3.0.3,<4,>=2.4.2 in /Library/Frameworks/Python.framework/Versions/3.12/lib/python3.12/site-packages (from httplib2<1.0.0,>=0.19.0->google-api-python-client->google-generativeai) (3.1.4)\n",
      "Note: you may need to restart the kernel to use updated packages.\n"
     ]
    },
    {
     "name": "stderr",
     "output_type": "stream",
     "text": [
      "huggingface/tokenizers: The current process just got forked, after parallelism has already been used. Disabling parallelism to avoid deadlocks...\n",
      "To disable this warning, you can either:\n",
      "\t- Avoid using `tokenizers` before the fork if possible\n",
      "\t- Explicitly set the environment variable TOKENIZERS_PARALLELISM=(true | false)\n"
     ]
    },
    {
     "name": "stdout",
     "output_type": "stream",
     "text": [
      "Requirement already satisfied: faiss-cpu in /Library/Frameworks/Python.framework/Versions/3.12/lib/python3.12/site-packages (1.11.0)\n",
      "Requirement already satisfied: lancedb in /Library/Frameworks/Python.framework/Versions/3.12/lib/python3.12/site-packages (0.22.0)\n",
      "Requirement already satisfied: tiktoken in /Library/Frameworks/Python.framework/Versions/3.12/lib/python3.12/site-packages (0.9.0)\n",
      "Requirement already satisfied: numpy<3.0,>=1.25.0 in /Library/Frameworks/Python.framework/Versions/3.12/lib/python3.12/site-packages (from faiss-cpu) (2.1.0)\n",
      "Requirement already satisfied: packaging in /Library/Frameworks/Python.framework/Versions/3.12/lib/python3.12/site-packages (from faiss-cpu) (24.1)\n",
      "Requirement already satisfied: deprecation in /Library/Frameworks/Python.framework/Versions/3.12/lib/python3.12/site-packages (from lancedb) (2.1.0)\n",
      "Requirement already satisfied: overrides>=0.7 in /Library/Frameworks/Python.framework/Versions/3.12/lib/python3.12/site-packages (from lancedb) (7.7.0)\n",
      "Requirement already satisfied: pyarrow>=14 in /Library/Frameworks/Python.framework/Versions/3.12/lib/python3.12/site-packages (from lancedb) (20.0.0)\n",
      "Requirement already satisfied: pydantic>=1.10 in /Library/Frameworks/Python.framework/Versions/3.12/lib/python3.12/site-packages (from lancedb) (2.11.4)\n",
      "Requirement already satisfied: tqdm>=4.27.0 in /Library/Frameworks/Python.framework/Versions/3.12/lib/python3.12/site-packages (from lancedb) (4.67.1)\n",
      "Requirement already satisfied: regex>=2022.1.18 in /Library/Frameworks/Python.framework/Versions/3.12/lib/python3.12/site-packages (from tiktoken) (2024.11.6)\n",
      "Requirement already satisfied: requests>=2.26.0 in /Library/Frameworks/Python.framework/Versions/3.12/lib/python3.12/site-packages (from tiktoken) (2.32.3)\n",
      "Requirement already satisfied: annotated-types>=0.6.0 in /Library/Frameworks/Python.framework/Versions/3.12/lib/python3.12/site-packages (from pydantic>=1.10->lancedb) (0.7.0)\n",
      "Requirement already satisfied: pydantic-core==2.33.2 in /Library/Frameworks/Python.framework/Versions/3.12/lib/python3.12/site-packages (from pydantic>=1.10->lancedb) (2.33.2)\n",
      "Requirement already satisfied: typing-extensions>=4.12.2 in /Library/Frameworks/Python.framework/Versions/3.12/lib/python3.12/site-packages (from pydantic>=1.10->lancedb) (4.13.2)\n",
      "Requirement already satisfied: typing-inspection>=0.4.0 in /Library/Frameworks/Python.framework/Versions/3.12/lib/python3.12/site-packages (from pydantic>=1.10->lancedb) (0.4.0)\n",
      "Requirement already satisfied: charset-normalizer<4,>=2 in /Library/Frameworks/Python.framework/Versions/3.12/lib/python3.12/site-packages (from requests>=2.26.0->tiktoken) (3.4.0)\n",
      "Requirement already satisfied: idna<4,>=2.5 in /Library/Frameworks/Python.framework/Versions/3.12/lib/python3.12/site-packages (from requests>=2.26.0->tiktoken) (3.10)\n",
      "Requirement already satisfied: urllib3<3,>=1.21.1 in /Library/Frameworks/Python.framework/Versions/3.12/lib/python3.12/site-packages (from requests>=2.26.0->tiktoken) (2.2.3)\n",
      "Requirement already satisfied: certifi>=2017.4.17 in /Library/Frameworks/Python.framework/Versions/3.12/lib/python3.12/site-packages (from requests>=2.26.0->tiktoken) (2025.4.26)\n",
      "Note: you may need to restart the kernel to use updated packages.\n"
     ]
    },
    {
     "name": "stderr",
     "output_type": "stream",
     "text": [
      "huggingface/tokenizers: The current process just got forked, after parallelism has already been used. Disabling parallelism to avoid deadlocks...\n",
      "To disable this warning, you can either:\n",
      "\t- Avoid using `tokenizers` before the fork if possible\n",
      "\t- Explicitly set the environment variable TOKENIZERS_PARALLELISM=(true | false)\n"
     ]
    },
    {
     "name": "stdout",
     "output_type": "stream",
     "text": [
      "Requirement already satisfied: python-docx in /Library/Frameworks/Python.framework/Versions/3.12/lib/python3.12/site-packages (1.1.2)\n",
      "Requirement already satisfied: lxml>=3.1.0 in /Library/Frameworks/Python.framework/Versions/3.12/lib/python3.12/site-packages (from python-docx) (5.4.0)\n",
      "Requirement already satisfied: typing-extensions>=4.9.0 in /Library/Frameworks/Python.framework/Versions/3.12/lib/python3.12/site-packages (from python-docx) (4.13.2)\n",
      "Note: you may need to restart the kernel to use updated packages.\n"
     ]
    }
   ],
   "source": [
    "%pip install langchain lancedb langchain_community requests langchainhub\n",
    "%pip install langchain google-generativeai\n",
    "%pip install faiss-cpu lancedb tiktoken\n",
    "%pip install python-docx"
   ]
  },
  {
   "cell_type": "code",
   "execution_count": 29,
   "id": "4c631e37",
   "metadata": {},
   "outputs": [
    {
     "name": "stdout",
     "output_type": "stream",
     "text": [
      "Fetched data from Google Sheets:\n",
      "[{'Timestamp': '2025-05-07T00:00:00.000Z', 'Name': 'Riya Reddy', 'Feedback': 'The syllabus is well structured and up to date.'}, {'Timestamp': '2025-05-07T00:01:00.000Z', 'Name': 'Kabir Sharma', 'Feedback': 'Some topics feel outdated and irrelevant.'}, {'Timestamp': '2025-05-07T00:02:00.000Z', 'Name': 'Maya Das', 'Feedback': 'The syllabus is well structured and up to date.'}, {'Timestamp': '2025-05-07T00:03:00.000Z', 'Name': 'Anjali Singh', 'Feedback': 'The grading seems inconsistent at times.'}, {'Timestamp': '2025-05-07T00:04:00.000Z', 'Name': 'Rohit Patel', 'Feedback': 'Lab instruments are outdated.'}, {'Timestamp': '2025-05-07T00:05:00.000Z', 'Name': 'Kunal Sharma', 'Feedback': 'Quick response from the faculty to doubts.'}, {'Timestamp': '2025-05-07T00:06:00.000Z', 'Name': 'Kabir Reddy', 'Feedback': 'Classroom is too noisy and affects concentration.'}, {'Timestamp': '2025-05-07T00:07:00.000Z', 'Name': 'Kabir Singh', 'Feedback': 'Group discussions are very effective.'}, {'Timestamp': '2025-05-07T00:08:00.000Z', 'Name': 'Tara Reddy', 'Feedback': 'Great examples, but sometimes the pace is too fast.'}, {'Timestamp': '2025-05-07T00:09:00.000Z', 'Name': 'Maya Singh', 'Feedback': 'Some topics feel outdated and irrelevant.'}, {'Timestamp': '2025-05-07T00:10:00.000Z', 'Name': 'Kunal Reddy', 'Feedback': 'Some topics feel outdated and irrelevant.'}, {'Timestamp': '2025-05-07T00:11:00.000Z', 'Name': 'Sneha Reddy', 'Feedback': 'Lab instruments are outdated.'}, {'Timestamp': '2025-05-07T00:12:00.000Z', 'Name': 'Anjali Reddy', 'Feedback': 'The grading seems inconsistent at times.'}, {'Timestamp': '2025-05-07T00:13:00.000Z', 'Name': 'Kabir Das', 'Feedback': 'Lab instruments are outdated.'}, {'Timestamp': '2025-05-07T00:14:00.000Z', 'Name': 'Sneha Sharma', 'Feedback': 'Loved the real-world case studies included.'}, {'Timestamp': '2025-05-07T00:15:00.000Z', 'Name': 'Kunal Das', 'Feedback': 'The teacher explains concepts very clearly.'}, {'Timestamp': '2025-05-07T00:16:00.000Z', 'Name': 'Riya Sharma', 'Feedback': 'Assignments are useful but time-consuming.'}, {'Timestamp': '2025-05-07T00:17:00.000Z', 'Name': 'Kunal Patel', 'Feedback': 'Quick response from the faculty to doubts.'}, {'Timestamp': '2025-05-07T00:18:00.000Z', 'Name': 'Maya Patel', 'Feedback': 'Loved the real-world case studies included.'}, {'Timestamp': '2025-05-07T00:19:00.000Z', 'Name': 'Rohit Singh', 'Feedback': 'Quick response from the faculty to doubts.'}, {'Timestamp': '2025-05-07T00:20:00.000Z', 'Name': 'Anjali Das', 'Feedback': 'Classroom is too noisy and affects concentration.'}, {'Timestamp': '2025-05-07T00:21:00.000Z', 'Name': 'Maya Patel', 'Feedback': 'Good AV equipment and seating arrangement.'}, {'Timestamp': '2025-05-07T00:22:00.000Z', 'Name': 'Dev Sharma', 'Feedback': 'Too much theory, needs more practical sessions.'}, {'Timestamp': '2025-05-07T00:23:00.000Z', 'Name': 'Riya Patel', 'Feedback': 'Assignments are useful but time-consuming.'}, {'Timestamp': '2025-05-07T00:24:00.000Z', 'Name': 'Anjali Sharma', 'Feedback': 'Loved the real-world case studies included.'}, {'Timestamp': '2025-05-07T00:25:00.000Z', 'Name': 'Aman Reddy', 'Feedback': 'Assignments are useful but time-consuming.'}, {'Timestamp': '2025-05-07T00:26:00.000Z', 'Name': 'Dev Sharma', 'Feedback': 'Too many surprise tests, very stressful.'}, {'Timestamp': '2025-05-07T00:27:00.000Z', 'Name': 'Maya Sharma', 'Feedback': 'Some topics feel outdated and irrelevant.'}, {'Timestamp': '2025-05-07T00:28:00.000Z', 'Name': 'Kunal Singh', 'Feedback': 'The grading seems inconsistent at times.'}, {'Timestamp': '2025-05-07T00:29:00.000Z', 'Name': 'Rohit Sharma', 'Feedback': 'The teacher explains concepts very clearly.'}, {'Timestamp': '2025-05-07T00:30:00.000Z', 'Name': 'Maya Reddy', 'Feedback': 'Exams are fair and reflect the coursework.'}, {'Timestamp': '2025-05-07T00:31:00.000Z', 'Name': 'Maya Reddy', 'Feedback': 'The grading seems inconsistent at times.'}, {'Timestamp': '2025-05-07T00:32:00.000Z', 'Name': 'Aman Reddy', 'Feedback': 'Good AV equipment and seating arrangement.'}, {'Timestamp': '2025-05-07T00:33:00.000Z', 'Name': 'Maya Reddy', 'Feedback': 'Internet is unreliable during labs.'}, {'Timestamp': '2025-05-07T00:34:00.000Z', 'Name': 'Rohit Patel', 'Feedback': 'Quick response from the faculty to doubts.'}, {'Timestamp': '2025-05-07T00:35:00.000Z', 'Name': 'Tara Das', 'Feedback': 'The grading seems inconsistent at times.'}, {'Timestamp': '2025-05-07T00:36:00.000Z', 'Name': 'Rohit Sharma', 'Feedback': 'Quick response from the faculty to doubts.'}, {'Timestamp': '2025-05-07T00:37:00.000Z', 'Name': 'Sneha Sharma', 'Feedback': 'Good AV equipment and seating arrangement.'}, {'Timestamp': '2025-05-07T00:38:00.000Z', 'Name': 'Aman Singh', 'Feedback': 'Hard to get any help outside of class hours.'}, {'Timestamp': '2025-05-07T00:39:00.000Z', 'Name': 'Riya Singh', 'Feedback': 'Quick response from the faculty to doubts.'}, {'Timestamp': '2025-05-07T00:40:00.000Z', 'Name': 'Anjali Reddy', 'Feedback': 'Some topics feel outdated and irrelevant.'}, {'Timestamp': '2025-05-07T00:41:00.000Z', 'Name': 'Riya Patel', 'Feedback': 'Group discussions are very effective.'}, {'Timestamp': '2025-05-07T00:42:00.000Z', 'Name': 'Rohit Das', 'Feedback': 'Hard to get any help outside of class hours.'}, {'Timestamp': '2025-05-07T00:43:00.000Z', 'Name': 'Anjali Das', 'Feedback': 'Great examples, but sometimes the pace is too fast.'}, {'Timestamp': '2025-05-07T00:44:00.000Z', 'Name': 'Sneha Sharma', 'Feedback': 'Great examples, but sometimes the pace is too fast.'}, {'Timestamp': '2025-05-07T00:45:00.000Z', 'Name': 'Kabir Das', 'Feedback': 'Great examples, but sometimes the pace is too fast.'}, {'Timestamp': '2025-05-07T00:46:00.000Z', 'Name': 'Riya Das', 'Feedback': 'The syllabus is well structured and up to date.'}, {'Timestamp': '2025-05-07T00:47:00.000Z', 'Name': 'Rohit Singh', 'Feedback': 'Internet is unreliable during labs.'}, {'Timestamp': '2025-05-07T00:48:00.000Z', 'Name': 'Dev Sharma', 'Feedback': 'Too much theory, needs more practical sessions.'}, {'Timestamp': '2025-05-07T00:49:00.000Z', 'Name': 'Riya Das', 'Feedback': 'Good AV equipment and seating arrangement.'}, {'Timestamp': '2025-05-07T00:50:00.000Z', 'Name': 'Riya Singh', 'Feedback': 'Group discussions are very effective.'}, {'Timestamp': '2025-05-07T00:51:00.000Z', 'Name': 'Rohit Das', 'Feedback': 'Assignments are useful but time-consuming.'}, {'Timestamp': '2025-05-07T00:52:00.000Z', 'Name': 'Maya Singh', 'Feedback': 'Great examples, but sometimes the pace is too fast.'}, {'Timestamp': '2025-05-07T00:53:00.000Z', 'Name': 'Dev Sharma', 'Feedback': 'Classroom is too noisy and affects concentration.'}, {'Timestamp': '2025-05-07T00:54:00.000Z', 'Name': 'Rohit Sharma', 'Feedback': 'Some topics feel outdated and irrelevant.'}, {'Timestamp': '2025-05-07T00:55:00.000Z', 'Name': 'Dev Das', 'Feedback': 'Lab instruments are outdated.'}, {'Timestamp': '2025-05-07T00:56:00.000Z', 'Name': 'Riya Patel', 'Feedback': 'Loved the real-world case studies included.'}, {'Timestamp': '2025-05-07T00:57:00.000Z', 'Name': 'Kabir Sharma', 'Feedback': 'Lack of mentorship opportunities.'}, {'Timestamp': '2025-05-07T00:58:00.000Z', 'Name': 'Kunal Patel', 'Feedback': 'Exams are fair and reflect the coursework.'}, {'Timestamp': '2025-05-07T00:59:00.000Z', 'Name': 'Rohit Das', 'Feedback': 'Sometimes the lectures feel rushed and hard to follow.'}, {'Timestamp': '2025-05-07T01:00:00.000Z', 'Name': 'Kunal Sharma', 'Feedback': 'The grading seems inconsistent at times.'}, {'Timestamp': '2025-05-07T01:01:00.000Z', 'Name': 'Kunal Reddy', 'Feedback': 'Sometimes the lectures feel rushed and hard to follow.'}, {'Timestamp': '2025-05-07T01:02:00.000Z', 'Name': 'Sneha Reddy', 'Feedback': 'Exams are fair and reflect the coursework.'}, {'Timestamp': '2025-05-07T01:03:00.000Z', 'Name': 'Maya Reddy', 'Feedback': 'Loved the real-world case studies included.'}, {'Timestamp': '2025-05-07T01:04:00.000Z', 'Name': 'Anjali Das', 'Feedback': 'Sometimes the lectures feel rushed and hard to follow.'}, {'Timestamp': '2025-05-07T01:05:00.000Z', 'Name': 'Maya Patel', 'Feedback': 'Good AV equipment and seating arrangement.'}, {'Timestamp': '2025-05-07T01:06:00.000Z', 'Name': 'Riya Patel', 'Feedback': 'Assignments are useful but time-consuming.'}, {'Timestamp': '2025-05-07T01:07:00.000Z', 'Name': 'Kunal Das', 'Feedback': 'Assignments are useful but time-consuming.'}, {'Timestamp': '2025-05-07T01:08:00.000Z', 'Name': 'Dev Das', 'Feedback': 'Very patient with students and clears doubts well.'}, {'Timestamp': '2025-05-07T01:09:00.000Z', 'Name': 'Maya Singh', 'Feedback': 'Classroom is too noisy and affects concentration.'}, {'Timestamp': '2025-05-07T01:10:00.000Z', 'Name': 'Sneha Singh', 'Feedback': 'Hard to get any help outside of class hours.'}, {'Timestamp': '2025-05-07T01:11:00.000Z', 'Name': 'Sneha Singh', 'Feedback': 'Internet is unreliable during labs.'}, {'Timestamp': '2025-05-07T01:12:00.000Z', 'Name': 'Aman Singh', 'Feedback': 'Assignments are useful but time-consuming.'}, {'Timestamp': '2025-05-07T01:13:00.000Z', 'Name': 'Kunal Singh', 'Feedback': 'Very patient with students and clears doubts well.'}, {'Timestamp': '2025-05-07T01:14:00.000Z', 'Name': 'Aman Patel', 'Feedback': 'The syllabus is well structured and up to date.'}, {'Timestamp': '2025-05-07T01:15:00.000Z', 'Name': 'Aman Sharma', 'Feedback': 'Lack of mentorship opportunities.'}, {'Timestamp': '2025-05-07T01:16:00.000Z', 'Name': 'Sneha Reddy', 'Feedback': 'Great examples, but sometimes the pace is too fast.'}, {'Timestamp': '2025-05-07T01:17:00.000Z', 'Name': 'Sneha Reddy', 'Feedback': 'Hard to get any help outside of class hours.'}, {'Timestamp': '2025-05-07T01:18:00.000Z', 'Name': 'Riya Das', 'Feedback': 'Internet is unreliable during labs.'}, {'Timestamp': '2025-05-07T01:19:00.000Z', 'Name': 'Maya Reddy', 'Feedback': 'The teacher explains concepts very clearly.'}, {'Timestamp': '2025-05-07T01:20:00.000Z', 'Name': 'Sneha Das', 'Feedback': 'Some topics feel outdated and irrelevant.'}, {'Timestamp': '2025-05-07T01:21:00.000Z', 'Name': 'Riya Reddy', 'Feedback': 'Great examples, but sometimes the pace is too fast.'}, {'Timestamp': '2025-05-07T01:22:00.000Z', 'Name': 'Anjali Das', 'Feedback': 'Loved the real-world case studies included.'}, {'Timestamp': '2025-05-07T01:23:00.000Z', 'Name': 'Sneha Das', 'Feedback': 'Good AV equipment and seating arrangement.'}, {'Timestamp': '2025-05-07T01:24:00.000Z', 'Name': 'Dev Das', 'Feedback': 'Very patient with students and clears doubts well.'}, {'Timestamp': '2025-05-07T01:25:00.000Z', 'Name': 'Tara Singh', 'Feedback': 'Exams are fair and reflect the coursework.'}, {'Timestamp': '2025-05-07T01:26:00.000Z', 'Name': 'Maya Das', 'Feedback': 'Internet is unreliable during labs.'}, {'Timestamp': '2025-05-07T01:27:00.000Z', 'Name': 'Tara Das', 'Feedback': 'Lack of mentorship opportunities.'}, {'Timestamp': '2025-05-07T01:28:00.000Z', 'Name': 'Aman Singh', 'Feedback': 'Quick response from the faculty to doubts.'}, {'Timestamp': '2025-05-07T01:29:00.000Z', 'Name': 'Kabir Singh', 'Feedback': 'Group discussions are very effective.'}, {'Timestamp': '2025-05-07T01:30:00.000Z', 'Name': 'Kunal Reddy', 'Feedback': 'Lab instruments are outdated.'}, {'Timestamp': '2025-05-07T01:31:00.000Z', 'Name': 'Sneha Sharma', 'Feedback': 'Sometimes the lectures feel rushed and hard to follow.'}, {'Timestamp': '2025-05-07T01:32:00.000Z', 'Name': 'Anjali Patel', 'Feedback': 'Exams are fair and reflect the coursework.'}, {'Timestamp': '2025-05-07T01:33:00.000Z', 'Name': 'Maya Patel', 'Feedback': 'Great examples, but sometimes the pace is too fast.'}, {'Timestamp': '2025-05-07T01:34:00.000Z', 'Name': 'Sneha Das', 'Feedback': 'Loved the real-world case studies included.'}, {'Timestamp': '2025-05-07T01:35:00.000Z', 'Name': 'Rohit Das', 'Feedback': 'The teacher explains concepts very clearly.'}, {'Timestamp': '2025-05-07T01:36:00.000Z', 'Name': 'Anjali Das', 'Feedback': 'Lack of mentorship opportunities.'}, {'Timestamp': '2025-05-07T01:37:00.000Z', 'Name': 'Aman Sharma', 'Feedback': 'The grading seems inconsistent at times.'}, {'Timestamp': '2025-05-07T01:38:00.000Z', 'Name': 'Kabir Singh', 'Feedback': 'Lack of mentorship opportunities.'}, {'Timestamp': '2025-05-07T01:39:00.000Z', 'Name': 'Rohit Reddy', 'Feedback': 'The grading seems inconsistent at times.'}, {'Timestamp': '2025-05-07T01:40:00.000Z', 'Name': 'Kunal Singh', 'Feedback': 'Assignments are useful but time-consuming.'}, {'Timestamp': '2025-05-07T01:41:00.000Z', 'Name': 'Sneha Singh', 'Feedback': 'The grading seems inconsistent at times.'}, {'Timestamp': '2025-05-07T01:42:00.000Z', 'Name': 'Kabir Sharma', 'Feedback': 'Quick response from the faculty to doubts.'}, {'Timestamp': '2025-05-07T01:43:00.000Z', 'Name': 'Dev Singh', 'Feedback': 'The teacher explains concepts very clearly.'}, {'Timestamp': '2025-05-07T01:44:00.000Z', 'Name': 'Kabir Reddy', 'Feedback': 'Exams are fair and reflect the coursework.'}, {'Timestamp': '2025-05-07T01:45:00.000Z', 'Name': 'Kunal Das', 'Feedback': 'Hard to get any help outside of class hours.'}, {'Timestamp': '2025-05-07T01:46:00.000Z', 'Name': 'Sneha Patel', 'Feedback': 'The grading seems inconsistent at times.'}, {'Timestamp': '2025-05-07T01:47:00.000Z', 'Name': 'Rohit Patel', 'Feedback': 'The grading seems inconsistent at times.'}, {'Timestamp': '2025-05-07T01:48:00.000Z', 'Name': 'Maya Singh', 'Feedback': 'Very patient with students and clears doubts well.'}, {'Timestamp': '2025-05-07T01:49:00.000Z', 'Name': 'Aman Patel', 'Feedback': 'The grading seems inconsistent at times.'}, {'Timestamp': '2025-05-07T01:50:00.000Z', 'Name': 'Tara Das', 'Feedback': 'The grading seems inconsistent at times.'}, {'Timestamp': '2025-05-07T01:51:00.000Z', 'Name': 'Riya Singh', 'Feedback': 'Assignments are useful but time-consuming.'}, {'Timestamp': '2025-05-07T01:52:00.000Z', 'Name': 'Riya Das', 'Feedback': 'Lab instruments are outdated.'}, {'Timestamp': '2025-05-07T01:53:00.000Z', 'Name': 'Tara Sharma', 'Feedback': 'The grading seems inconsistent at times.'}, {'Timestamp': '2025-05-07T01:54:00.000Z', 'Name': 'Sneha Sharma', 'Feedback': 'Great examples, but sometimes the pace is too fast.'}, {'Timestamp': '2025-05-07T01:55:00.000Z', 'Name': 'Riya Singh', 'Feedback': 'Exams are fair and reflect the coursework.'}, {'Timestamp': '2025-05-07T01:56:00.000Z', 'Name': 'Sneha Das', 'Feedback': 'Sometimes the lectures feel rushed and hard to follow.'}, {'Timestamp': '2025-05-07T01:57:00.000Z', 'Name': 'Aman Patel', 'Feedback': 'The grading seems inconsistent at times.'}, {'Timestamp': '2025-05-07T01:58:00.000Z', 'Name': 'Anjali Das', 'Feedback': 'Too many surprise tests, very stressful.'}, {'Timestamp': '2025-05-07T01:59:00.000Z', 'Name': 'Anjali Singh', 'Feedback': 'Group discussions are very effective.'}, {'Timestamp': '2025-05-07T02:00:00.000Z', 'Name': 'Kabir Sharma', 'Feedback': 'Lab instruments are outdated.'}, {'Timestamp': '2025-05-07T02:01:00.000Z', 'Name': 'Dev Patel', 'Feedback': 'Sometimes the lectures feel rushed and hard to follow.'}, {'Timestamp': '2025-05-07T02:02:00.000Z', 'Name': 'Aman Singh', 'Feedback': 'The syllabus is well structured and up to date.'}, {'Timestamp': '2025-05-07T02:03:00.000Z', 'Name': 'Kunal Reddy', 'Feedback': 'Exams are fair and reflect the coursework.'}, {'Timestamp': '2025-05-07T02:04:00.000Z', 'Name': 'Aman Singh', 'Feedback': 'Too many surprise tests, very stressful.'}, {'Timestamp': '2025-05-07T02:05:00.000Z', 'Name': 'Kunal Sharma', 'Feedback': 'Internet is unreliable during labs.'}, {'Timestamp': '2025-05-07T02:06:00.000Z', 'Name': 'Maya Reddy', 'Feedback': 'Too much theory, needs more practical sessions.'}, {'Timestamp': '2025-05-07T02:07:00.000Z', 'Name': 'Kabir Singh', 'Feedback': 'Assignments are useful but time-consuming.'}, {'Timestamp': '2025-05-07T02:08:00.000Z', 'Name': 'Maya Reddy', 'Feedback': 'Hard to get any help outside of class hours.'}, {'Timestamp': '2025-05-07T02:09:00.000Z', 'Name': 'Sneha Sharma', 'Feedback': 'Group discussions are very effective.'}, {'Timestamp': '2025-05-07T02:10:00.000Z', 'Name': 'Dev Sharma', 'Feedback': 'Lab instruments are outdated.'}, {'Timestamp': '2025-05-07T02:11:00.000Z', 'Name': 'Tara Patel', 'Feedback': 'Very patient with students and clears doubts well.'}, {'Timestamp': '2025-05-07T02:12:00.000Z', 'Name': 'Riya Sharma', 'Feedback': 'Great examples, but sometimes the pace is too fast.'}, {'Timestamp': '2025-05-07T02:13:00.000Z', 'Name': 'Sneha Das', 'Feedback': 'The teacher explains concepts very clearly.'}, {'Timestamp': '2025-05-07T02:14:00.000Z', 'Name': 'Riya Das', 'Feedback': 'Exams are fair and reflect the coursework.'}, {'Timestamp': '2025-05-07T02:15:00.000Z', 'Name': 'Rohit Reddy', 'Feedback': 'Loved the real-world case studies included.'}, {'Timestamp': '2025-05-07T02:16:00.000Z', 'Name': 'Dev Patel', 'Feedback': 'Lab instruments are outdated.'}, {'Timestamp': '2025-05-07T02:17:00.000Z', 'Name': 'Dev Sharma', 'Feedback': 'Loved the real-world case studies included.'}, {'Timestamp': '2025-05-07T02:18:00.000Z', 'Name': 'Sneha Patel', 'Feedback': 'Internet is unreliable during labs.'}, {'Timestamp': '2025-05-07T02:19:00.000Z', 'Name': 'Kunal Reddy', 'Feedback': 'Sometimes the lectures feel rushed and hard to follow.'}, {'Timestamp': '2025-05-07T02:20:00.000Z', 'Name': 'Kunal Das', 'Feedback': 'Hard to get any help outside of class hours.'}, {'Timestamp': '2025-05-07T02:21:00.000Z', 'Name': 'Kabir Singh', 'Feedback': 'Sometimes the lectures feel rushed and hard to follow.'}, {'Timestamp': '2025-05-07T02:22:00.000Z', 'Name': 'Kunal Das', 'Feedback': 'Too much theory, needs more practical sessions.'}, {'Timestamp': '2025-05-07T02:23:00.000Z', 'Name': 'Riya Patel', 'Feedback': 'Good AV equipment and seating arrangement.'}, {'Timestamp': '2025-05-07T02:24:00.000Z', 'Name': 'Maya Sharma', 'Feedback': 'Loved the real-world case studies included.'}, {'Timestamp': '2025-05-07T02:25:00.000Z', 'Name': 'Maya Patel', 'Feedback': 'Great examples, but sometimes the pace is too fast.'}, {'Timestamp': '2025-05-07T02:26:00.000Z', 'Name': 'Maya Patel', 'Feedback': 'Lack of mentorship opportunities.'}, {'Timestamp': '2025-05-07T02:27:00.000Z', 'Name': 'Anjali Reddy', 'Feedback': 'Too much theory, needs more practical sessions.'}, {'Timestamp': '2025-05-07T02:28:00.000Z', 'Name': 'Sneha Patel', 'Feedback': 'The syllabus is well structured and up to date.'}, {'Timestamp': '2025-05-07T02:29:00.000Z', 'Name': 'Rohit Reddy', 'Feedback': 'Assignments are useful but time-consuming.'}, {'Timestamp': '2025-05-07T02:30:00.000Z', 'Name': 'Tara Reddy', 'Feedback': 'Great examples, but sometimes the pace is too fast.'}, {'Timestamp': '2025-05-07T02:31:00.000Z', 'Name': 'Tara Singh', 'Feedback': 'Too much theory, needs more practical sessions.'}, {'Timestamp': '2025-05-07T02:32:00.000Z', 'Name': 'Dev Patel', 'Feedback': 'Great examples, but sometimes the pace is too fast.'}, {'Timestamp': '2025-05-07T02:33:00.000Z', 'Name': 'Kunal Patel', 'Feedback': 'The syllabus is well structured and up to date.'}, {'Timestamp': '2025-05-07T02:34:00.000Z', 'Name': 'Kabir Reddy', 'Feedback': 'Lack of mentorship opportunities.'}, {'Timestamp': '2025-05-07T02:35:00.000Z', 'Name': 'Aman Das', 'Feedback': 'Exams are fair and reflect the coursework.'}, {'Timestamp': '2025-05-07T02:36:00.000Z', 'Name': 'Kunal Singh', 'Feedback': 'Group discussions are very effective.'}, {'Timestamp': '2025-05-07T02:37:00.000Z', 'Name': 'Dev Singh', 'Feedback': 'Lab instruments are outdated.'}, {'Timestamp': '2025-05-07T02:38:00.000Z', 'Name': 'Anjali Patel', 'Feedback': 'Internet is unreliable during labs.'}, {'Timestamp': '2025-05-07T02:39:00.000Z', 'Name': 'Anjali Patel', 'Feedback': 'Sometimes the lectures feel rushed and hard to follow.'}, {'Timestamp': '2025-05-07T02:40:00.000Z', 'Name': 'Kabir Sharma', 'Feedback': 'Some topics feel outdated and irrelevant.'}, {'Timestamp': '2025-05-07T02:41:00.000Z', 'Name': 'Dev Reddy', 'Feedback': 'The grading seems inconsistent at times.'}, {'Timestamp': '2025-05-07T02:42:00.000Z', 'Name': 'Dev Patel', 'Feedback': 'Classroom is too noisy and affects concentration.'}, {'Timestamp': '2025-05-07T02:43:00.000Z', 'Name': 'Rohit Sharma', 'Feedback': 'Internet is unreliable during labs.'}, {'Timestamp': '2025-05-07T02:44:00.000Z', 'Name': 'Anjali Sharma', 'Feedback': 'Internet is unreliable during labs.'}, {'Timestamp': '2025-05-07T02:45:00.000Z', 'Name': 'Dev Reddy', 'Feedback': 'Too much theory, needs more practical sessions.'}, {'Timestamp': '2025-05-07T02:46:00.000Z', 'Name': 'Aman Reddy', 'Feedback': 'Lack of mentorship opportunities.'}, {'Timestamp': '2025-05-07T02:47:00.000Z', 'Name': 'Riya Reddy', 'Feedback': 'Lack of mentorship opportunities.'}, {'Timestamp': '2025-05-07T02:48:00.000Z', 'Name': 'Anjali Singh', 'Feedback': 'Internet is unreliable during labs.'}, {'Timestamp': '2025-05-07T02:49:00.000Z', 'Name': 'Sneha Reddy', 'Feedback': 'Too much theory, needs more practical sessions.'}, {'Timestamp': '2025-05-07T02:50:00.000Z', 'Name': 'Sneha Reddy', 'Feedback': 'Some topics feel outdated and irrelevant.'}, {'Timestamp': '2025-05-07T02:51:00.000Z', 'Name': 'Riya Sharma', 'Feedback': 'Hard to get any help outside of class hours.'}, {'Timestamp': '2025-05-07T02:52:00.000Z', 'Name': 'Anjali Sharma', 'Feedback': 'Loved the real-world case studies included.'}, {'Timestamp': '2025-05-07T02:53:00.000Z', 'Name': 'Dev Sharma', 'Feedback': 'Exams are fair and reflect the coursework.'}, {'Timestamp': '2025-05-07T02:54:00.000Z', 'Name': 'Kabir Singh', 'Feedback': 'Very patient with students and clears doubts well.'}, {'Timestamp': '2025-05-07T02:55:00.000Z', 'Name': 'Kunal Das', 'Feedback': 'Good AV equipment and seating arrangement.'}, {'Timestamp': '2025-05-07T02:56:00.000Z', 'Name': 'Kabir Reddy', 'Feedback': 'The syllabus is well structured and up to date.'}, {'Timestamp': '2025-05-07T02:57:00.000Z', 'Name': 'Kunal Patel', 'Feedback': 'Loved the real-world case studies included.'}, {'Timestamp': '2025-05-07T02:58:00.000Z', 'Name': 'Riya Sharma', 'Feedback': 'The teacher explains concepts very clearly.'}, {'Timestamp': '2025-05-07T02:59:00.000Z', 'Name': 'Rohit Sharma', 'Feedback': 'Sometimes the lectures feel rushed and hard to follow.'}, {'Timestamp': '2025-05-07T03:00:00.000Z', 'Name': 'Dev Reddy', 'Feedback': 'The grading seems inconsistent at times.'}, {'Timestamp': '2025-05-07T03:01:00.000Z', 'Name': 'Aman Reddy', 'Feedback': 'Lack of mentorship opportunities.'}, {'Timestamp': '2025-05-07T03:02:00.000Z', 'Name': 'Tara Reddy', 'Feedback': 'The teacher explains concepts very clearly.'}, {'Timestamp': '2025-05-07T03:03:00.000Z', 'Name': 'Kabir Singh', 'Feedback': 'Loved the real-world case studies included.'}, {'Timestamp': '2025-05-07T03:04:00.000Z', 'Name': 'Riya Reddy', 'Feedback': 'Loved the real-world case studies included.'}, {'Timestamp': '2025-05-07T03:05:00.000Z', 'Name': 'Maya Singh', 'Feedback': 'Group discussions are very effective.'}, {'Timestamp': '2025-05-07T03:06:00.000Z', 'Name': 'Anjali Sharma', 'Feedback': 'Sometimes the lectures feel rushed and hard to follow.'}, {'Timestamp': '2025-05-07T03:07:00.000Z', 'Name': 'Kabir Singh', 'Feedback': 'Classroom is too noisy and affects concentration.'}, {'Timestamp': '2025-05-07T03:08:00.000Z', 'Name': 'Tara Reddy', 'Feedback': 'The teacher explains concepts very clearly.'}, {'Timestamp': '2025-05-07T03:09:00.000Z', 'Name': 'Aman Das', 'Feedback': 'Lack of mentorship opportunities.'}, {'Timestamp': '2025-05-07T03:10:00.000Z', 'Name': 'Aman Singh', 'Feedback': 'Group discussions are very effective.'}, {'Timestamp': '2025-05-07T03:11:00.000Z', 'Name': 'Kabir Reddy', 'Feedback': 'The syllabus is well structured and up to date.'}, {'Timestamp': '2025-05-07T03:12:00.000Z', 'Name': 'Sneha Sharma', 'Feedback': 'Classroom is too noisy and affects concentration.'}, {'Timestamp': '2025-05-07T03:13:00.000Z', 'Name': 'Riya Singh', 'Feedback': 'The grading seems inconsistent at times.'}, {'Timestamp': '2025-05-07T03:14:00.000Z', 'Name': 'Aman Patel', 'Feedback': 'The grading seems inconsistent at times.'}, {'Timestamp': '2025-05-07T03:15:00.000Z', 'Name': 'Kunal Patel', 'Feedback': 'Too much theory, needs more practical sessions.'}, {'Timestamp': '2025-05-07T03:16:00.000Z', 'Name': 'Rohit Das', 'Feedback': 'Very patient with students and clears doubts well.'}, {'Timestamp': '2025-05-07T03:17:00.000Z', 'Name': 'Riya Reddy', 'Feedback': 'Classroom is too noisy and affects concentration.'}, {'Timestamp': '2025-05-07T03:18:00.000Z', 'Name': 'Rohit Das', 'Feedback': 'Exams are fair and reflect the coursework.'}, {'Timestamp': '2025-05-07T03:19:00.000Z', 'Name': 'Riya Patel', 'Feedback': 'Good AV equipment and seating arrangement.'}, {'Timestamp': '2025-05-07T15:09:30.000Z', 'Name': 'Rishav Singh', 'Feedback': 'Everything was perfect'}]\n"
     ]
    }
   ],
   "source": [
    "import requests\n",
    "# Step 1: Fetch data from the Google Sheets Web App URL, which is a public API, easy right\n",
    "URL = \"https://script.google.com/macros/s/AKfycbwhTV8Ryxe_5wF-3fBsI7R8VVVQ_dPebAVOcnvLplvAtJZceD2KCs8D5Yj8VfcDUWWYDQ/exec\"\n",
    "response = requests.get(URL)\n",
    "\n",
    "# Check if the request was successful\n",
    "#in later stages, sometime if this check is not done, it will throw an error, so its better to check now\n",
    "if response.status_code == 200:\n",
    "    sheet_data = response.json()  # List of dictionaries (data from Google Sheets)\n",
    "    print(\"Fetched data from Google Sheets:\")\n",
    "    print(sheet_data)\n",
    "else:\n",
    "    print(\"Failed to fetch data. Status code:\", response.status_code)\n"
   ]
  },
  {
   "cell_type": "code",
   "execution_count": 30,
   "id": "87b48806",
   "metadata": {},
   "outputs": [],
   "source": [
    "from langchain.text_splitter import RecursiveCharacterTextSplitter \n",
    "reviews = [entry['Feedback'] for entry in sheet_data]\n",
    "reviews_text = \"\\n\".join([f\"Timestamp: {entry['Timestamp']}, Name: {entry['Name']}, Feedback: {entry['Feedback']}\" for entry in sheet_data])"
   ]
  },
  {
   "cell_type": "code",
   "execution_count": 31,
   "id": "01380d9b",
   "metadata": {},
   "outputs": [],
   "source": [
    "text_splitter = RecursiveCharacterTextSplitter(chunk_size=500, chunk_overlap=50)\n",
    "chunks = text_splitter.split_text(reviews_text)"
   ]
  },
  {
   "cell_type": "code",
   "execution_count": 32,
   "id": "ddb1dc30",
   "metadata": {},
   "outputs": [
    {
     "name": "stdout",
     "output_type": "stream",
     "text": [
      "Split into 51 chunks:\n",
      "Timestamp: 2025-05-07T00:00:00.000Z, Name: Riya Reddy, Feedback: The syllabus is well structured and up to date.\n",
      "Timestamp: 2025-05-07T00:01:00.000Z, Name: Kabir Sharma, Feedback: Some topics feel outdated and irrelevant.\n",
      "Timestamp: 2025-05-07T00:02:00.000Z, Name: Maya Das, Feedback: The syllabus is well structured and up to date.\n",
      "Timestamp: 2025-05-07T00:03:00.000Z, Name: Anjali Singh, Feedback: The grading seems inconsistent at times.\n",
      "Timestamp: 2025-05-07T00:04:00.000Z, Name: Rohit Patel, Feedback: Lab instruments are outdated.\n",
      "Timestamp: 2025-05-07T00:05:00.000Z, Name: Kunal Sharma, Feedback: Quick response from the faculty to doubts.\n",
      "Timestamp: 2025-05-07T00:06:00.000Z, Name: Kabir Reddy, Feedback: Classroom is too noisy and affects concentration.\n",
      "Timestamp: 2025-05-07T00:07:00.000Z, Name: Kabir Singh, Feedback: Group discussions are very effective.\n",
      "Timestamp: 2025-05-07T00:08:00.000Z, Name: Tara Reddy, Feedback: Great examples, but sometimes the pace is too fast.\n",
      "Timestamp: 2025-05-07T00:09:00.000Z, Name: Maya Singh, Feedback: Some topics feel outdated and irrelevant.\n",
      "Timestamp: 2025-05-07T00:10:00.000Z, Name: Kunal Reddy, Feedback: Some topics feel outdated and irrelevant.\n",
      "Timestamp: 2025-05-07T00:11:00.000Z, Name: Sneha Reddy, Feedback: Lab instruments are outdated.\n",
      "Timestamp: 2025-05-07T00:12:00.000Z, Name: Anjali Reddy, Feedback: The grading seems inconsistent at times.\n",
      "Timestamp: 2025-05-07T00:13:00.000Z, Name: Kabir Das, Feedback: Lab instruments are outdated.\n",
      "Timestamp: 2025-05-07T00:14:00.000Z, Name: Sneha Sharma, Feedback: Loved the real-world case studies included.\n",
      "Timestamp: 2025-05-07T00:15:00.000Z, Name: Kunal Das, Feedback: The teacher explains concepts very clearly.\n",
      "Timestamp: 2025-05-07T00:16:00.000Z, Name: Riya Sharma, Feedback: Assignments are useful but time-consuming.\n",
      "Timestamp: 2025-05-07T00:17:00.000Z, Name: Kunal Patel, Feedback: Quick response from the faculty to doubts.\n",
      "Timestamp: 2025-05-07T00:18:00.000Z, Name: Maya Patel, Feedback: Loved the real-world case studies included.\n",
      "Timestamp: 2025-05-07T00:19:00.000Z, Name: Rohit Singh, Feedback: Quick response from the faculty to doubts.\n"
     ]
    }
   ],
   "source": [
    "print(f\"Split into {len(chunks)} chunks:\")\n",
    "for chunk in chunks[:5]:  # Just printing the first 5 chunks for now\n",
    "    print(chunk)"
   ]
  },
  {
   "cell_type": "code",
   "execution_count": 33,
   "id": "5ea21db7",
   "metadata": {},
   "outputs": [],
   "source": [
    "#embed\n",
    "from langchain.embeddings import HuggingFaceEmbeddings\n",
    "embedding=HuggingFaceEmbeddings(model_name=\"all-MiniLM-L6-v2\")"
   ]
  },
  {
   "cell_type": "code",
   "execution_count": 34,
   "id": "3a677296",
   "metadata": {},
   "outputs": [],
   "source": [
    "#embedding and store in LanceDB\n",
    "from langchain.vectorstores import LanceDB\n",
    "vectorDB=LanceDB.from_texts(chunks,embedding)"
   ]
  },
  {
   "cell_type": "code",
   "execution_count": null,
   "id": "23e25c92",
   "metadata": {},
   "outputs": [],
   "source": [
    "#setting up Google Gemini as LLM\n",
    "import os\n",
    "from langchain_google_genai import GoogleGenerativeAI \n",
    "os.environ[\"GOOGLE_API_KEY\"] = \"enter_your_api_key\"\n",
    "llm=GoogleGenerativeAI(model=\"gemini-2.0-flash-lite\",)"
   ]
  },
  {
   "cell_type": "code",
   "execution_count": 39,
   "id": "f5b71c16",
   "metadata": {},
   "outputs": [],
   "source": [
    "#QnA pipepline using retriever\n",
    "from langchain.chains import RetrievalQA\n",
    "QnA=RetrievalQA.from_chain_type(\n",
    "    llm=llm,\n",
    "    retriever=vectorDB.as_retriever(),\n",
    ")"
   ]
  },
  {
   "cell_type": "code",
   "execution_count": 40,
   "id": "4eadf807",
   "metadata": {},
   "outputs": [
    {
     "name": "stdout",
     "output_type": "stream",
     "text": [
      "Here's a breakdown of the feedback into 5 major categories with summaries:\n",
      "\n",
      "1.  **Content Relevance/Quality:**\n",
      "    *   **Summary:** Concerns about the relevance of topics and outdated material.\n",
      "    *   **Examples:** \"Some topics feel outdated and irrelevant.\"\n",
      "\n",
      "2.  **Teaching Method/Pace:**\n",
      "    *   **Summary:** Feedback related to the pace of lectures, difficulty following, and the need for more practical sessions.\n",
      "    *   **Examples:** \"Great examples, but sometimes the pace is too fast.\", \"Sometimes the lectures feel rushed and hard to follow.\", \"Too much theory, needs more practical sessions.\"\n",
      "\n",
      "3.  **Support/Accessibility:**\n",
      "    *   **Summary:** Issues with getting help outside of class hours.\n",
      "    *   **Examples:** \"Hard to get any help outside of class hours.\"\n",
      "\n",
      "4.  **Engagement/Classroom Environment:**\n",
      "    *   **Summary:** Positive and negative feedback regarding the classroom environment and activities, specifically group discussions and noise levels.\n",
      "    *   **Examples:** \"Group discussions are very effective.\", \"Classroom is too noisy and affects concentration.\"\n",
      "\n",
      "5.  **Assessment/Workload:**\n",
      "    *   **Summary:** Comments on the assessment methods and the workload.\n",
      "    *   **Examples:** \"Assignments are useful but time-consuming.\", \"Too many surprise tests, very stressful.\"\n"
     ]
    }
   ],
   "source": [
    "#query(USP of the product)\n",
    "#1st try:Query for LLM retrieving our text.\n",
    "query=\"Cluster all the reviews into 5 major categories and give a summary of each category\"\n",
    "result=QnA.run(query)\n",
    "print(result)"
   ]
  },
  {
   "cell_type": "markdown",
   "id": "ca76cde8",
   "metadata": {},
   "source": [
    "Retrivel QnA may sound good, but at the end its a Question-Answer pipeline. To do the holistic clustering try to do cosine similarity+ KMeans clustering"
   ]
  },
  {
   "cell_type": "code",
   "execution_count": 41,
   "id": "e716b489",
   "metadata": {},
   "outputs": [],
   "source": [
    "#2nd try:cosine similarity+KMeans clustering\n",
    "\n",
    "from sklearn.cluster import KMeans\n",
    "\n",
    "embedded_vectors =embedding.embed_documents(chunks)\n",
    "# 5 groups, we can even change as per need by developer\n",
    "kmeans = KMeans(n_clusters=5, random_state=42)\n",
    "labels = kmeans.fit_predict(embedded_vectors)\n",
    "\n",
    "# Group original chunks by cluster label\n",
    "clustered_reviews = {i: [] for i in range(5)}\n",
    "for label, chunk in zip(labels, chunks):\n",
    "    clustered_reviews[label].append(chunk)\n"
   ]
  },
  {
   "cell_type": "code",
   "execution_count": 42,
   "id": "759e318e",
   "metadata": {},
   "outputs": [
    {
     "name": "stdout",
     "output_type": "stream",
     "text": [
      "\n",
      " Cluster 0 Summary:\n",
      "Here's a summary of the feedback, highlighting the main themes:\n",
      "\n",
      "**Positive Feedback:**\n",
      "\n",
      "*   **Clear Explanations:** Several reviewers (Maya Reddy, Rohit Das, Sneha Das) praised the teacher's ability to explain concepts clearly.\n",
      "*   **Fair Exams:**  Two reviewers (Anjali Patel, Riya Das) found the exams fair and reflective of the coursework.\n",
      "*   **Real-World Case Studies:** Two reviewers (Sneha Das, Rohit Reddy) appreciated the inclusion of real-world case studies.\n",
      "*   **Well Structured Syllabus:** One reviewer (Riya Das) found the syllabus well structured and up to date.\n",
      "\n",
      "**Negative Feedback/Areas for Improvement:**\n",
      "\n",
      "*   **Pace Too Fast:** The most frequent complaint (Tara Reddy, Sneha Sharma, Kabir Das, Maya Singh, Sneha Reddy, Maya Patel, Riya Sharma) was that the pace of the course was too fast.\n",
      "*   **Outdated Content:** Several reviewers (Maya Singh, Kunal Reddy, Rohit Sharma) felt that some topics were outdated and irrelevant.\n",
      "*   **Outdated Lab Instruments:** Two reviewers (Sneha Reddy, Dev Das) mentioned outdated lab instruments.\n",
      "*   **Unreliable Internet:** Two reviewers (Rohit Singh, Riya Das) reported unreliable internet access during lab sessions.\n",
      "*   **Noise Issues:** One reviewer (Dev Sharma) found the classroom too noisy, affecting concentration.\n",
      "*   **Limited Help Outside Class:** One reviewer (Sneha Reddy) found it difficult to get help outside of class hours.\n",
      "\n",
      "**Overall:**\n",
      "\n",
      "The feedback suggests a course with some strengths, particularly in the teacher's ability to explain concepts and the inclusion of real-world examples. However, there are significant areas for improvement, including addressing the fast pace, updating content and lab equipment, improving internet reliability in labs, and potentially reducing classroom noise.\n",
      "\n",
      "\n",
      " Cluster 1 Summary:\n",
      "Here's a summary of the feedback, highlighting the key themes:\n",
      "\n",
      "**Positive Aspects:**\n",
      "\n",
      "*   **Faculty Responsiveness:**  The faculty are praised for their quick responses to student doubts.\n",
      "*   **Real-World Application:** The inclusion of real-world case studies is highly appreciated.\n",
      "*   **Equipment and Environment:** The AV equipment, seating arrangements, and overall classroom environment are generally considered good.\n",
      "*   **Fair Assessments:** Exams are perceived as fair and reflective of the course material.\n",
      "*   **Syllabus Quality:** The syllabus is well-structured and up-to-date.\n",
      "*   **Patience and Clarity:** The faculty is patient and clears doubts well.\n",
      "\n",
      "**Areas for Improvement:**\n",
      "\n",
      "*   **Time-Consuming Assignments:** Assignments are considered useful but require a significant time commitment.\n",
      "*   **Limited Availability of Help Outside of Class:** Students are struggling to get help outside of class hours.\n",
      "*   **Pace of Lectures:** Some students find the lectures rushed and difficult to follow, impacting comprehension.\n",
      "*   **Lack of Practical Sessions:** Some students want more practical sessions instead of just theory.\n",
      "*   **Lack of Mentorship Opportunities:** There is a need for more mentorship opportunities.\n",
      "*   **Classroom Environment:** The classroom environment is too noisy and affects concentration.\n",
      "\n",
      "\n",
      " Cluster 2 Summary:\n",
      "Here's a summary of the feedback, highlighting the key themes:\n",
      "\n",
      "**Positive Aspects:**\n",
      "\n",
      "*   **Clear Explanations:** Many students praised the teacher's ability to explain concepts clearly.\n",
      "*   **Well-Structured Syllabus (Initially):** Some found the syllabus well-structured and up-to-date.\n",
      "*   **Real-World Case Studies:** The inclusion of real-world case studies was well-received.\n",
      "*   **Fair Exams:** Exams were generally perceived as fair and reflective of the coursework.\n",
      "*   **Quick Faculty Response:** The faculty's quick response to questions was appreciated.\n",
      "*   **Good AV equipment and seating arrangement (Initially):** Some students found the AV equipment and seating arrangement good.\n",
      "*   **Patient Teacher:** One student mentioned the teacher being patient with students and clearing doubts well.\n",
      "*   **Effective Group Discussions:** One student found the group discussions very effective.\n",
      "\n",
      "**Negative Aspects & Areas for Improvement:**\n",
      "\n",
      "*   **Inconsistent Grading:** **The most frequently mentioned concern was inconsistent grading.** This was a recurring theme across a large number of reviews.\n",
      "*   **Outdated Content:** Some topics were perceived as outdated and irrelevant.\n",
      "*   **Outdated Lab Instruments:** The lab instruments were reported as being outdated.\n",
      "*   **Unreliable Internet:** Internet connectivity issues during labs were a problem.\n",
      "*   **Rushed Lectures:** Some students found the lectures rushed and difficult to follow.\n",
      "*   **Lack of Mentorship:** A lack of mentorship opportunities was a concern.\n",
      "*   **Time-Consuming Assignments:** Assignments were seen as useful but overly time-consuming.\n",
      "*   **Limited Support Outside of Class:** Difficulty getting help outside of class hours.\n",
      "*   **Stressful Assessment:** Too many surprise tests, causing stress.\n",
      "*   **Noisy Classroom:** The classroom environment was too noisy, affecting concentration.\n",
      "*   **Need for More Practical Sessions:** Too much theory, and a need for more practical sessions.\n",
      "*   **Pace of Lectures:** The pace of lectures was sometimes too fast.\n",
      "\n",
      "\n",
      " Cluster 3 Summary:\n",
      "Here's a summary of the feedback, highlighting the key recurring themes:\n",
      "\n",
      "**Areas for Improvement:**\n",
      "\n",
      "*   **Outdated Lab Instruments:** This is a significant concern, mentioned multiple times, indicating a need for equipment upgrades.\n",
      "*   **Classroom Noise:** The classroom environment is consistently reported as too noisy, negatively impacting concentration.\n",
      "*   **Rushed Lectures:** Many students find the lectures are too fast-paced, making it difficult to follow the material.\n",
      "*   **Unreliable Internet:** The internet connection during labs is frequently reported as unreliable.\n",
      "*   **Lack of Help Outside Class Hours:** Students struggle to get assistance outside of scheduled class time.\n",
      "*   **Lack of Mentorship:** There is a desire for more mentorship opportunities.\n",
      "*   **Too Much Theory, Not Enough Practical Sessions:** There is feedback that the course material is too theoretical and needs more practical application.\n",
      "\n",
      "**Strengths:**\n",
      "\n",
      "*   **Faculty Responsiveness:** Faculty is generally quick to respond to student doubts.\n",
      "*   **Effective Group Discussions:** Group discussions are consistently praised as being effective.\n",
      "*   **Good AV Equipment and Seating Arrangement:** The AV equipment and seating are generally considered good.\n",
      "*   **Useful Assignments:** Assignments are seen as helpful, though time-consuming.\n",
      "*   **Fair Exams:** Exams are considered fair and aligned with the coursework.\n",
      "*   **Clear Explanations:** Some students report that the teacher explains concepts very clearly.\n",
      "*   **Positive Feedback on Real-World Case Studies:** The inclusion of real-world case studies is well-received.\n",
      "*   **Well-Structured and Up-to-Date Syllabus:** The syllabus is considered well-structured and current.\n",
      "*   **Patient and Helpful Faculty:** The faculty is patient with students and clears up doubts well.\n",
      "\n",
      "\n",
      " Cluster 4 Summary:\n",
      "Here's a summary of the feedback reviews, highlighting the key themes:\n",
      "\n",
      "**Strengths:**\n",
      "\n",
      "*   **Real-World Case Studies:** Many students appreciated the inclusion of real-world case studies.\n",
      "*   **Group Discussions:** Group discussions were considered very effective by some students.\n",
      "*   **Examples:** The examples provided were generally well-received and useful.\n",
      "*   **AV Equipment and Seating:** The AV equipment and seating arrangements were considered good.\n",
      "*   **One student said everything was perfect.**\n",
      "\n",
      "**Areas for Improvement:**\n",
      "\n",
      "*   **Assignments:** Assignments are useful but time-consuming.\n",
      "*   **Pace and Content Delivery:** The pace is sometimes too fast for some students.\n",
      "*   **Theory vs. Practice:** There's a strong desire for more practical sessions and less theory.\n",
      "*   **Relevance of Topics:** Some topics are perceived as outdated and irrelevant.\n",
      "*   **Stress and Assessment:** The number of surprise tests is causing stress.\n",
      "*   **Support:** Difficulty in getting help outside of class hours.\n",
      "*   **Mentorship:** Lack of mentorship opportunities.\n",
      "*   **Technical Issues:** Unreliable internet during labs.\n",
      "*   **Curriculum:** One student said the syllabus is well structured and up to date.\n",
      "\n"
     ]
    }
   ],
   "source": [
    "cluster_summaries = {}\n",
    "for i, texts in clustered_reviews.items():\n",
    "    combined_text = \"\\n\".join(texts)\n",
    "    prompt = f\"Summarize the following feedback reviews:\\n{combined_text}\"\n",
    "    response = llm.invoke(prompt)\n",
    "    cluster_summaries[i] = response\n",
    "    print(f\"\\n Cluster {i} Summary:\\n{response}\\n\")"
   ]
  },
  {
   "cell_type": "code",
   "execution_count": 47,
   "id": "31eb29cf",
   "metadata": {},
   "outputs": [
    {
     "name": "stdout",
     "output_type": "stream",
     "text": [
      " Cluster 0 Label: Here are the category labels:\n",
      "\n",
      "*   **Positive Feedback:**\n",
      "    *   Clear Explanations: **Instruction Clarity**\n",
      "    *   Fair Exams: **Assessment Fairness**\n",
      "    *   Real-World Case Studies: **Practical Application**\n",
      "    *   Well Structured Syllabus: **Course Organization**\n",
      "\n",
      "*   **Negative Feedback/Areas for Improvement:**\n",
      "    *   Pace Too Fast: **Pace & Delivery**\n",
      "    *   Outdated Content: **Content Relevance**\n",
      "    *   Outdated Lab Instruments: **Resource Quality**\n",
      "    *   Unreliable Internet: **Technical Issues**\n",
      "    *   Noise Issues: **Environment**\n",
      "    *   Limited Help Outside Class: **Support Availability**\n",
      " Cluster 1 Label: Here are the unique category labels:\n",
      "\n",
      "*   **Positive Aspects:** **Learning Experience**\n",
      "*   **Areas for Improvement:** **Support & Structure**\n",
      " Cluster 2 Label: Here are the unique category labels:\n",
      "\n",
      "*   **Positive Aspects:** **Effective Instruction**\n",
      "*   **Negative Aspects & Areas for Improvement:** **Areas for Improvement**\n",
      " Cluster 3 Label: Here's a breakdown of the feedback with unique category labels:\n",
      "\n",
      "**Areas for Improvement:**\n",
      "\n",
      "*   **Lab Instrument Issues:** **Equipment Deficiencies**\n",
      "*   **Classroom Noise:** **Environmental Distractions**\n",
      "*   **Rushed Lectures:** **Pace & Delivery**\n",
      "*   **Unreliable Internet:** **Technical Issues**\n",
      "*   **Lack of Help Outside Class Hours:** **Accessibility Gaps**\n",
      "*   **Lack of Mentorship:** **Guidance & Support**\n",
      "*   **Too Much Theory, Not Enough Practical Sessions:** **Theory vs. Practice**\n",
      "\n",
      "**Strengths:**\n",
      "\n",
      "*   **Faculty Responsiveness:** **Faculty Engagement**\n",
      "*   **Effective Group Discussions:** **Collaborative Learning**\n",
      "*   **Good AV Equipment and Seating Arrangement:** **Resource Quality**\n",
      "*   **Useful Assignments:** **Assignment Value**\n",
      "*   **Fair Exams:** **Assessment Fairness**\n",
      "*   **Clear Explanations:** **Clarity & Communication**\n",
      "*   **Positive Feedback on Real-World Case Studies:** **Relevance & Application**\n",
      "*   **Well-Structured and Up-to-Date Syllabus:** **Course Structure**\n",
      "*   **Patient and Helpful Faculty:** **Faculty Support**\n",
      " Cluster 4 Label: Here are the category labels:\n",
      "\n",
      "*   **Strengths:** Positive Aspects\n",
      "*   **Areas for Improvement:** Areas for Refinement\n"
     ]
    }
   ],
   "source": [
    "cluster_labels = {}\n",
    "for i, summary in cluster_summaries.items():\n",
    "    prompt = f\"Based on this summary, provide one short unique category label to each cluster\\n{summary}\"\n",
    "    response = llm.invoke(prompt)\n",
    "    cluster_labels[i] = response\n",
    "    print(f\" Cluster {i} Label: {response}\")"
   ]
  },
  {
   "cell_type": "code",
   "execution_count": 48,
   "id": "0095c93b",
   "metadata": {},
   "outputs": [
    {
     "name": "stdout",
     "output_type": "stream",
     "text": [
      "docx file saved to: clustered_feedback_summary.docx\n"
     ]
    }
   ],
   "source": [
    "#optional code \n",
    "#i want docx of summary:\n",
    "from docx import Document\n",
    "\n",
    "# Create a new Word document\n",
    "doc = Document()\n",
    "doc.add_heading(\"Clustered Student Feedback Summary\", 0)\n",
    "\n",
    "# Loop through clusters and add content\n",
    "for i in range(len(cluster_summaries)):\n",
    "    label = cluster_labels.get(i, f\"Cluster {i}\")\n",
    "    summary = cluster_summaries.get(i, \"No summary available.\")\n",
    "\n",
    "    doc.add_heading(f\"Cluster {i + 1}: {label}\", level=1)\n",
    "    doc.add_paragraph(summary)\n",
    "    doc.add_paragraph(\"\\n\")  # Add space between clusters\n",
    "\n",
    "# Save the document\n",
    "output_path = \"clustered_feedback_summary.docx\"\n",
    "doc.save(output_path)\n",
    "\n",
    "print(f\"docx file saved to: {output_path}\")"
   ]
  },
  {
   "cell_type": "code",
   "execution_count": null,
   "id": "dd3806dd",
   "metadata": {},
   "outputs": [],
   "source": []
  }
 ],
 "metadata": {
  "kernelspec": {
   "display_name": "Python 3",
   "language": "python",
   "name": "python3"
  },
  "language_info": {
   "codemirror_mode": {
    "name": "ipython",
    "version": 3
   },
   "file_extension": ".py",
   "mimetype": "text/x-python",
   "name": "python",
   "nbconvert_exporter": "python",
   "pygments_lexer": "ipython3",
   "version": "3.12.5"
  }
 },
 "nbformat": 4,
 "nbformat_minor": 5
}
